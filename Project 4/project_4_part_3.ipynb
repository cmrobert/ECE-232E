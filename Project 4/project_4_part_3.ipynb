{
 "cells": [
  {
   "cell_type": "code",
   "execution_count": 7,
   "metadata": {
    "scrolled": true
   },
   "outputs": [],
   "source": [
    "import csv\n",
    "import numpy as np \n",
    "from scipy import stats\n",
    "import igraph"
   ]
  },
  {
   "cell_type": "code",
   "execution_count": 8,
   "metadata": {},
   "outputs": [],
   "source": [
    "list_jan_data = [] \n",
    "list_feb_data = [] \n",
    "list_mar_data = [] \n",
    "list_all_data = [] \n",
    "with open('Uber_Data/los_angeles-censustracts-2020-1-All-MonthlyAggregate.csv', 'r') as f1:\n",
    "    for line in f1:\n",
    "        line =line.strip('\\n')\n",
    "        arr = line.split(',')\n",
    "        #print(arr[2])\n",
    "        list_all_data.append(arr) \n",
    "        if arr[2] == '01':\n",
    "            list_jan_data.append(arr) \n",
    "        if arr[2] == '02':\n",
    "            list_feb_data.append(arr)\n",
    "        if arr[2] == '03':\n",
    "            list_mar_data.append(arr) \n",
    "            \n",
    "        "
   ]
  },
  {
   "cell_type": "code",
   "execution_count": 9,
   "metadata": {},
   "outputs": [],
   "source": [
    "# Make everything into a numpy array, rows are still for each entry and cols are attributes \n",
    "list_jan_data = np.array(list_jan_data)\n",
    "list_feb_data = np.array(list_feb_data)\n",
    "list_mar_data = np.array(list_mar_data)\n",
    "list_all_data = np.array(list_all_data)\n"
   ]
  },
  {
   "cell_type": "code",
   "execution_count": 10,
   "metadata": {},
   "outputs": [
    {
     "name": "stdout",
     "output_type": "stream",
     "text": [
      "['1575' '939' '988' ... '167' '585' '679']\n"
     ]
    }
   ],
   "source": [
    "print(list_mar_data[:,0]) "
   ]
  },
  {
   "cell_type": "code",
   "execution_count": 6,
   "metadata": {},
   "outputs": [
    {
     "name": "stdout",
     "output_type": "stream",
     "text": [
      "[['dstid' '1575' '125' ... '1236' '2596' '1656']]\n"
     ]
    }
   ],
   "source": [
    "# Find the number that appears the most as the source or destination. \n",
    "# This will be the placeholder for DTLA until we find it\n",
    "sources = list_all_data[:,0] \n",
    "dests = list_all_data[:,1] \n",
    "all_locs = np.vstack((sources,dests)) \n",
    "m = stats.mode(all_locs)[0]\n",
    "print(m)\n"
   ]
  },
  {
   "cell_type": "code",
   "execution_count": 11,
   "metadata": {},
   "outputs": [],
   "source": [
    "# \"Source\" is the \"main node\" the placeholder for DTLA \n",
    "source = '1575'\n",
    "# Iterate through the list \n",
    "# I tried this with January + February but it made less sense \n",
    "#pre_pandemic = np.vstack((list_jan_data,list_feb_data)) \n",
    "pre_pandemic = list_jan_data\n",
    "\n",
    "post_pandemic = list_mar_data \n",
    "\n",
    "# Find the pre-pandemic entries from location '1575' that take less than 30 mins \n",
    "# Initialize np array with 0 rows and correct # of cols \n",
    "pre_pandemic_less_30 = np.zeros((0,pre_pandemic.shape[1]))\n",
    "\n",
    "# Iterate row by row \n",
    "for line_num in range(pre_pandemic.shape[0]):\n",
    "    # Check source location \n",
    "    if pre_pandemic[line_num,0] == source:\n",
    "        # Check that mean travel time is less than 30 mins (or 1800 seconds) \n",
    "        if float(pre_pandemic[line_num,3]) < 1800.0:\n",
    "            pre_pandemic_less_30 = np.vstack((pre_pandemic_less_30,pre_pandemic[line_num,:]))\n",
    "            \n",
    "    \n",
    "# Find the post-pandemic entries from location '1575' that take less than 30 mins \n",
    "# Initialize np array with 0 rows and correct # of cols \n",
    "post_pandemic_less_30 = np.zeros((0,post_pandemic.shape[1]))\n",
    "\n",
    "# Iterate row by row \n",
    "for line_num in range(post_pandemic.shape[0]):\n",
    "    # Check source location \n",
    "    if post_pandemic[line_num,0] == source:\n",
    "        # Check that mean travel time is less than 30 mins (or 1800 seconds) \n",
    "        if float(post_pandemic[line_num,3]) < 1800.0:\n",
    "            post_pandemic_less_30 = np.vstack((post_pandemic_less_30,post_pandemic[line_num,:]))    \n"
   ]
  },
  {
   "cell_type": "code",
   "execution_count": 12,
   "metadata": {},
   "outputs": [
    {
     "name": "stdout",
     "output_type": "stream",
     "text": [
      "(1564592, 7)\n",
      "(1072, 7)\n",
      "(1247442, 7)\n",
      "(1114, 7)\n"
     ]
    }
   ],
   "source": [
    "print(pre_pandemic.shape)\n",
    "print(pre_pandemic_less_30.shape)\n",
    "print(post_pandemic.shape)\n",
    "print(post_pandemic_less_30.shape)"
   ]
  },
  {
   "cell_type": "markdown",
   "metadata": {},
   "source": [
    "Despite the fact that there are originally more entries in January than in March, there are more places you can get to in 30 min from location 1575 in March than in January. "
   ]
  },
  {
   "cell_type": "code",
   "execution_count": 13,
   "metadata": {},
   "outputs": [
    {
     "name": "stdout",
     "output_type": "stream",
     "text": [
      "[['1575' '1430' '01' ... '629.62' '1357.72' '1.44']\n",
      " ['1575' '1383' '01' ... '647.27' '971.08' '1.64']\n",
      " ['1575' '1026' '01' ... '481.42' '625.24' '1.61']\n",
      " ...\n",
      " ['1575' '1177' '01' ... '728.57' '1344.92' '1.49']\n",
      " ['1575' '1343' '01' ... '350.7' '441.44' '1.69']\n",
      " ['1575' '984' '01' ... '648.11' '1384.73' '1.42']]\n"
     ]
    }
   ],
   "source": [
    "print(pre_pandemic_less_30)"
   ]
  },
  {
   "cell_type": "code",
   "execution_count": 26,
   "metadata": {},
   "outputs": [],
   "source": [
    "# Make two graphs: One for pre-pandemic and one post-pandemic  \n",
    "# The nodes: '1575' and every number that exists in the second column above (destinations) \n",
    "# The edges: An edge exists between two nodes if their travel time is less than 30 mins \n",
    "# So an edge can exist between two nodes even if neither is '1575' \n",
    "\n",
    "# Number of vertices pre-pandemic \n",
    "num_vertices_pre = 1+pre_pandemic_less_30.shape[0] \n",
    "# Create a directed graph\n",
    "g_pre = igraph.Graph(directed=True)\n",
    "# Add num_vertices_pre vertices\n",
    "g_pre.add_vertices(num_vertices_pre)\n",
    "\n",
    "# Add ids and labels to vertices\n",
    "# First label is '1575' and then iterate through the rest \n",
    "g_pre.vs[0][\"id\"] = 0 \n",
    "g_pre.vs[0][\"label\"] = '1575'  \n",
    "for i in range(1,len(g_pre.vs)):\n",
    "    #print(i)\n",
    "    g_pre.vs[i][\"id\"]= i\n",
    "    # Label is the location id \n",
    "    g_pre.vs[i][\"label\"]= pre_pandemic_less_30[i-1,1] \n",
    "\n",
    "\n",
    "node_labels = g_pre.vs[\"label\"]\n"
   ]
  },
  {
   "cell_type": "code",
   "execution_count": null,
   "metadata": {},
   "outputs": [],
   "source": [
    "# For all the node labels \n",
    "# Iterate through each row of list_jan_data \n",
    "# if source and dest are both in node_labels\n",
    "# if the travel time is less than 30 mins \n",
    "# If an edge doesn't already exist between these two nodes\n",
    "# Add an edge between these two nodes \n",
    "# And add this line to a new matrix in case we need it for later \n"
   ]
  }
 ],
 "metadata": {
  "kernelspec": {
   "display_name": "Python 3",
   "language": "python",
   "name": "python3"
  },
  "language_info": {
   "codemirror_mode": {
    "name": "ipython",
    "version": 3
   },
   "file_extension": ".py",
   "mimetype": "text/x-python",
   "name": "python",
   "nbconvert_exporter": "python",
   "pygments_lexer": "ipython3",
   "version": "3.8.3"
  }
 },
 "nbformat": 4,
 "nbformat_minor": 4
}
