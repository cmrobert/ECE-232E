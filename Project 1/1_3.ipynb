{
 "cells": [
  {
   "cell_type": "markdown",
   "id": "af13d8e2",
   "metadata": {},
   "source": [
    "# Install packages"
   ]
  },
  {
   "cell_type": "code",
   "execution_count": 6,
   "id": "ef31ec66",
   "metadata": {},
   "outputs": [
    {
     "name": "stderr",
     "output_type": "stream",
     "text": [
      "Warning message:\n",
      "\"package 'igraph' is in use and will not be installed\"Warning message:\n",
      "\"package 'poweRlaw' is in use and will not be installed\"Warning message:\n",
      "\"package 'Matrix' was built under R version 3.6.3\"Warning message:\n",
      "\"package 'pracma' was built under R version 3.6.3\"\n",
      "Attaching package: 'pracma'\n",
      "\n",
      "The following objects are masked from 'package:Matrix':\n",
      "\n",
      "    expm, lu, tril, triu\n",
      "\n"
     ]
    }
   ],
   "source": [
    "install.packages('igraph')\n",
    "install.packages(\"poweRlaw\")\n",
    "\n",
    "library('Matrix')\n",
    "library('pracma')\n",
    "library('igraph')\n",
    "library('poweRlaw')"
   ]
  },
  {
   "cell_type": "markdown",
   "id": "2cb1d246",
   "metadata": {},
   "source": [
    "# Preferential Attachment 1.3a\n",
    "\n",
    "Produce such an undirected network with 1000 nodes and parameters m = 1,\n",
    "α = 1, β = −1, and a = c = d = 1, b = 0. Plot the degree distribution. What is the\n",
    "power law exponent?\n"
   ]
  },
  {
   "cell_type": "code",
   "execution_count": 3,
   "id": "d20fce95",
   "metadata": {},
   "outputs": [],
   "source": [
    "# create graph\n",
    "g_pa_1000 <- sample_pa_age(1000, pa.exp=1, aging.exp=-1,  m=1, directed=FALSE)\n",
    "\n"
   ]
  },
  {
   "cell_type": "code",
   "execution_count": 11,
   "id": "b0273ff2",
   "metadata": {},
   "outputs": [
    {
     "data": {
      "text/html": [
       "<strong>png:</strong> 2"
      ],
      "text/latex": [
       "\\textbf{png:} 2"
      ],
      "text/markdown": [
       "**png:** 2"
      ],
      "text/plain": [
       "png \n",
       "  2 "
      ]
     },
     "metadata": {},
     "output_type": "display_data"
    },
    {
     "data": {
      "image/png": "[encoded data removed]",
      "text/plain": [
       "Plot with title \"\""
      ]
     },
     "metadata": {},
     "output_type": "display_data"
    }
   ],
   "source": [
    "#plot graph\n",
    "\n",
    "plot(g_pa_1000, vertex.size=1, vertex.label=NA)\n",
    "png(file=\"plots/1_3_a_graph.png\", width=600, height=450)\n",
    "\n",
    "plot(g_pa_1000, vertex.size=1, vertex.label=NA)\n",
    "\n",
    "dev.off()\n"
   ]
  },
  {
   "cell_type": "code",
   "execution_count": 7,
   "id": "ed28bdf4",
   "metadata": {},
   "outputs": [
    {
     "data": {
      "text/html": [
       "<strong>png:</strong> 2"
      ],
      "text/latex": [
       "\\textbf{png:} 2"
      ],
      "text/markdown": [
       "**png:** 2"
      ],
      "text/plain": [
       "png \n",
       "  2 "
      ]
     },
     "metadata": {},
     "output_type": "display_data"
    },
    {
     "data": {
      "image/png": "[encoded data removed]",
      "text/plain": [
       "Plot with title \"Degree distribution of the network\""
      ]
     },
     "metadata": {},
     "output_type": "display_data"
    }
   ],
   "source": [
    "# plot degree dist\n",
    "# get degrees present in a net along with frequencies with which they appear\n",
    "degrees <- seq_along(degree.distribution(g_pa_1000)) - 1\n",
    "distribution <- degree.distribution(g_pa_1000)\n",
    "# convert them to collections and then to matrices\n",
    "X <- matrix(c(degrees), byrow=TRUE, nrow=1)\n",
    "Y <- matrix(c(distribution), byrow=TRUE, nrow=1)\n",
    "# delete entries with zero frequencies from both matrices\n",
    "# this allows to avoid - infinity values after log scaling and makes sense\n",
    "# as these data is not actually present in the net\n",
    "indices = which(Y!=0,arr.ind = T)\n",
    "X <- X[indices]\n",
    "Y <- Y[indices]\n",
    "# log scale data\n",
    "X <- log(X)\n",
    "Y <- log(Y)\n",
    "# select how many elements you want to delete from the end to avoid outliners\n",
    "delete <- 0\n",
    "# calculate len of the desired array\n",
    "len <- size(X)[2] - delete\n",
    "# get the slices of both matrices\n",
    "X <- X[0:len]\n",
    "Y <- Y[0:len]\n",
    "model = lm(Y ~ X)\n",
    "\n",
    "# plot for reference\n",
    "plot(X, Y,\n",
    "     main=\"Degree distribution of the network\",\n",
    "     xlab=\"Degree\",\n",
    "     ylab=\"Frequency\",)\n",
    "abline(model)\n",
    "\n",
    "# save plot\n",
    "png(file=\"plots/1_3_a.png\", width=600, height=450)\n",
    "\n",
    "plot(X, Y,\n",
    "     main=\"Degree distribution of the network\",\n",
    "     xlab=\"Degree\",\n",
    "     ylab=\"Frequency\",)\n",
    "abline(model)\n",
    "\n",
    "dev.off()\n"
   ]
  },
  {
   "cell_type": "code",
   "execution_count": 9,
   "id": "4ca335bd",
   "metadata": {},
   "outputs": [
    {
     "data": {
      "text/plain": [
       "\n",
       "Call:\n",
       "lm(formula = Y ~ X)\n",
       "\n",
       "Residuals:\n",
       "     Min       1Q   Median       3Q      Max \n",
       "-0.73719 -0.25647 -0.03783  0.30717  0.65323 \n",
       "\n",
       "Coefficients:\n",
       "            Estimate Std. Error t value Pr(>|t|)    \n",
       "(Intercept)  0.08518    0.32119   0.265    0.797    \n",
       "X           -2.49487    0.18432 -13.535 2.74e-07 ***\n",
       "---\n",
       "Signif. codes:  0 '***' 0.001 '**' 0.01 '*' 0.05 '.' 0.1 ' ' 1\n",
       "\n",
       "Residual standard error: 0.4343 on 9 degrees of freedom\n",
       "Multiple R-squared:  0.9532,\tAdjusted R-squared:  0.948 \n",
       "F-statistic: 183.2 on 1 and 9 DF,  p-value: 2.744e-07\n"
      ]
     },
     "metadata": {},
     "output_type": "display_data"
    }
   ],
   "source": [
    "\n",
    "summary(model)"
   ]
  },
  {
   "cell_type": "markdown",
   "id": "1f751a9d",
   "metadata": {},
   "source": [
    "# 1.3b: Community Structure "
   ]
  },
  {
   "cell_type": "code",
   "execution_count": 10,
   "id": "c6cd32fb",
   "metadata": {},
   "outputs": [
    {
     "name": "stdout",
     "output_type": "stream",
     "text": [
      "[1] 0.9352005\n"
     ]
    }
   ],
   "source": [
    "#Community structure\n",
    "clusters_pa_1000 <- cluster_fast_greedy(g_pa_1000)\n",
    "print(modularity(clusters_pa_1000))"
   ]
  },
  {
   "cell_type": "code",
   "execution_count": null,
   "id": "6c7769aa",
   "metadata": {},
   "outputs": [],
   "source": []
  }
 ],
 "metadata": {
  "kernelspec": {
   "display_name": "R",
   "language": "R",
   "name": "ir"
  },
  "language_info": {
   "codemirror_mode": "r",
   "file_extension": ".r",
   "mimetype": "text/x-r-source",
   "name": "R",
   "pygments_lexer": "r",
   "version": "3.6.1"
  }
 },
 "nbformat": 4,
 "nbformat_minor": 5
}
